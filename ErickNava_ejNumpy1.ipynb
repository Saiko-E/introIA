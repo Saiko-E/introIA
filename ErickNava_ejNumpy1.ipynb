{
  "nbformat": 4,
  "nbformat_minor": 0,
  "metadata": {
    "colab": {
      "provenance": []
    },
    "kernelspec": {
      "name": "python3",
      "display_name": "Python 3"
    },
    "language_info": {
      "name": "python"
    }
  },
  "cells": [
    {
      "cell_type": "markdown",
      "source": [
        "# **Tarea de Numpy**\n",
        "\n",
        "Este notebook es el de los ejercicios >:)"
      ],
      "metadata": {
        "id": "AnjfrYcx4MCI"
      }
    },
    {
      "cell_type": "code",
      "source": [
        "!pip install numpy\n",
        "import numpy as np\n",
        "\n",
        "# Probando si si jala el numpy\n",
        "my_arreglow = np.array([1, 2, 3, 4, 5])\n",
        "\n",
        "print(my_arreglow)\n",
        "print(np.mean(my_arreglow))\n"
      ],
      "metadata": {
        "colab": {
          "base_uri": "https://localhost:8080/"
        },
        "id": "qxKzpmVP8Lqs",
        "outputId": "b39b9ea9-f1c8-476a-9e3e-f710930cfa22"
      },
      "execution_count": null,
      "outputs": [
        {
          "output_type": "stream",
          "name": "stdout",
          "text": [
            "Requirement already satisfied: numpy in /usr/local/lib/python3.11/dist-packages (2.0.2)\n",
            "[1 2 3 4 5]\n",
            "3.0\n"
          ]
        }
      ]
    },
    {
      "cell_type": "markdown",
      "source": [
        "## Ejercicios de refuerzo"
      ],
      "metadata": {
        "id": "5bZxvLcH4Twv"
      }
    },
    {
      "cell_type": "markdown",
      "source": [
        "### **Ejercicio 1 - Crear un array de ceros:**\n",
        "Crea un array de tamaño (3, 4) lleno de ceros."
      ],
      "metadata": {
        "id": "0DKnt0XJ4b0j"
      }
    },
    {
      "cell_type": "code",
      "execution_count": null,
      "metadata": {
        "id": "XpBz8hQx4LD7",
        "outputId": "d64695fb-d478-40a4-ea18-e88bae1dc21b",
        "colab": {
          "base_uri": "https://localhost:8080/"
        }
      },
      "outputs": [
        {
          "output_type": "execute_result",
          "data": {
            "text/plain": [
              "array([[0, 0, 0, 0],\n",
              "       [0, 0, 0, 0],\n",
              "       [0, 0, 0, 0]])"
            ]
          },
          "metadata": {},
          "execution_count": 10
        }
      ],
      "source": [
        "# Solución (:\n",
        "arr1 = np.zeros((3,4), dtype=int) #para que no salgan con el puntito\n",
        "arr1"
      ]
    },
    {
      "cell_type": "markdown",
      "source": [
        "### **Ejercicio 2-  Suma de elementos:**\n",
        "   Dado el array [1, 2, 3, 4, 5], calcula la suma de todos sus elementos usando NumPy."
      ],
      "metadata": {
        "id": "3LhYSK4M91vQ"
      }
    },
    {
      "cell_type": "code",
      "source": [
        "# Solucion :)\n",
        "array = np.array([1, 2, 3, 4, 5])\n",
        "res = int(np.sum(array))\n",
        "print(f\"La suma de los elementos es {res}\")\n"
      ],
      "metadata": {
        "id": "l0s1XSEL98xf",
        "colab": {
          "base_uri": "https://localhost:8080/"
        },
        "outputId": "a6e78dff-2f57-4d61-f5ec-a2c430202859"
      },
      "execution_count": null,
      "outputs": [
        {
          "output_type": "stream",
          "name": "stdout",
          "text": [
            "La suma de los elementos es 15\n"
          ]
        }
      ]
    },
    {
      "cell_type": "markdown",
      "source": [
        "### **Ejercicio 3 - Encontrar el máximo y mínimo:**\n",
        "Dado el array [10, 20, 30, 40, 50], encuentra el valor máximo y mínimo."
      ],
      "metadata": {
        "id": "u1S6J4AI99Ae"
      }
    },
    {
      "cell_type": "code",
      "source": [
        "array = np.array([10, 20, 30, 40, 50])\n",
        "print(\"El maximo es \", np.max(array), \". El mainimo es \", np.min(array))\n",
        "# Solución:)"
      ],
      "metadata": {
        "id": "rU0mZk0h-A0R",
        "colab": {
          "base_uri": "https://localhost:8080/"
        },
        "outputId": "58a92f3a-bce2-431e-a612-1d0aa21c0ee6"
      },
      "execution_count": null,
      "outputs": [
        {
          "output_type": "stream",
          "name": "stdout",
          "text": [
            "El maximo es  50 . El mainimo es  10\n"
          ]
        }
      ]
    },
    {
      "cell_type": "markdown",
      "source": [
        "### **Ejercicio 4 - Encontrar el máximo y mínimo:**\n",
        " Dado el array [10, 20, 30, 40, 50], encuentra el valor máximo y mínimo.\n"
      ],
      "metadata": {
        "id": "lACW-PKX-BDd"
      }
    },
    {
      "cell_type": "code",
      "source": [
        "# Solución:)\n",
        "array = np.array([10, 20, 30, 40, 50])\n",
        "print(\"El maximo es \", np.max(array), \". El mainimo es \", np.min(array))\n"
      ],
      "metadata": {
        "id": "-qHvH7gJ-Ede",
        "colab": {
          "base_uri": "https://localhost:8080/"
        },
        "outputId": "3fc12ac8-f0e2-4d73-8bef-595aa85aa134"
      },
      "execution_count": null,
      "outputs": [
        {
          "output_type": "stream",
          "name": "stdout",
          "text": [
            "El maximo es  50 . El mainimo es  10\n"
          ]
        }
      ]
    },
    {
      "cell_type": "markdown",
      "source": [
        "### **Ejercicio 5 - Generar números aleatorios:**\n",
        "  Genera un array de 5 números aleatorios entre 0 y 1."
      ],
      "metadata": {
        "id": "ZkPxM1Wt-EmM"
      }
    },
    {
      "cell_type": "code",
      "source": [
        "# Solución:)\n",
        "arr2 = np.random.rand(5)\n",
        "print(arr2)\n"
      ],
      "metadata": {
        "id": "PBaN-yAp-Hu0",
        "colab": {
          "base_uri": "https://localhost:8080/"
        },
        "outputId": "7f3c17a9-a0eb-43b1-83e6-af39f8288b05"
      },
      "execution_count": null,
      "outputs": [
        {
          "output_type": "stream",
          "name": "stdout",
          "text": [
            "[0.028022   0.02450101 0.13005921 0.48860384 0.12635976]\n"
          ]
        }
      ]
    },
    {
      "cell_type": "markdown",
      "source": [
        "### **Ejercicio 6 - Promedio de un array:**\n",
        "Dado el array [5, 10, 15, 20, 25], calcula su promedio usando NumPy."
      ],
      "metadata": {
        "id": "MEDxAgWLAE8Q"
      }
    },
    {
      "cell_type": "code",
      "source": [
        "#Solucion:)\n",
        "arr3= np.array( [5, 10, 15, 20, 25])\n",
        "print(np.mean(arr3))\n"
      ],
      "metadata": {
        "id": "HjnjecKuAOkN",
        "colab": {
          "base_uri": "https://localhost:8080/"
        },
        "outputId": "722104db-2a4f-42c8-d3d5-501370c7eff6"
      },
      "execution_count": null,
      "outputs": [
        {
          "output_type": "stream",
          "name": "stdout",
          "text": [
            "15.0\n"
          ]
        }
      ]
    },
    {
      "cell_type": "markdown",
      "source": [
        "### **Ejercicio 7 - Concatenar dos arrays**\n",
        "Dados los arrays A = [1, 2, 3] y B = [4, 5, 6], concaténalos en un solo array."
      ],
      "metadata": {
        "id": "Z93kn0htAPZb"
      }
    },
    {
      "cell_type": "code",
      "source": [
        "#Solucion:)\n",
        "a = np.array([1,2,3])\n",
        "b = np.array([4,5,6])\n",
        "\n",
        "c = np.concatenate((a ,b), axis = None)\n",
        "print(c)"
      ],
      "metadata": {
        "id": "NzldaS9RAS45",
        "colab": {
          "base_uri": "https://localhost:8080/"
        },
        "outputId": "c65bedc8-5c21-4847-f16c-52c26d47a739"
      },
      "execution_count": null,
      "outputs": [
        {
          "output_type": "stream",
          "name": "stdout",
          "text": [
            "[1 2 3 4 5 6]\n"
          ]
        }
      ]
    },
    {
      "cell_type": "markdown",
      "source": [
        "### **Ejercicio 8 - Reshape de un Array**\n",
        "Dado el array [1, 2, 3, 4, 5, 6], cámbialo a una matriz de 2x3."
      ],
      "metadata": {
        "id": "bvTCzzFjAevg"
      }
    },
    {
      "cell_type": "code",
      "source": [
        "#Solución:)\n",
        "arr6 = np.array([1,2,3,4,5,6])\n",
        "arrRe = np.reshape(arr6,(2,3))\n",
        "print(arrRe)"
      ],
      "metadata": {
        "id": "0hfE1QUMAhB3",
        "colab": {
          "base_uri": "https://localhost:8080/"
        },
        "outputId": "0420dac5-03bf-4286-b075-2e4ebeb285e4"
      },
      "execution_count": null,
      "outputs": [
        {
          "output_type": "stream",
          "name": "stdout",
          "text": [
            "[[1 2 3]\n",
            " [4 5 6]]\n"
          ]
        }
      ]
    },
    {
      "cell_type": "markdown",
      "source": [
        "### **Ejercicio 9 - Producto punto (dot product):**\n",
        "Dados dos arrays A = [1, 2, 3] y B = [4, 5, 6], calcula su producto punto"
      ],
      "metadata": {
        "id": "By9zMuMyYMNA"
      }
    },
    {
      "cell_type": "code",
      "source": [
        "#Solución:)\n",
        "a = np.array([1,2,3])\n",
        "b = np.array([4,5,6])\n",
        "c = np.dot(a,b)\n",
        "print(c)\n",
        "3*6 + 5*2 + 4"
      ],
      "metadata": {
        "id": "Vj-94PgAhpmk",
        "colab": {
          "base_uri": "https://localhost:8080/"
        },
        "outputId": "ed1ab576-9a41-4bfd-fd30-43235bb2f859"
      },
      "execution_count": null,
      "outputs": [
        {
          "output_type": "stream",
          "name": "stdout",
          "text": [
            "32\n"
          ]
        },
        {
          "output_type": "execute_result",
          "data": {
            "text/plain": [
              "32"
            ]
          },
          "metadata": {},
          "execution_count": 44
        }
      ]
    },
    {
      "cell_type": "markdown",
      "source": [
        "### **Ejercicio 10 - Reorganizar un array:**\n",
        "Dado el array [1, 2, 3, 4, 5, 6, 7, 8, 9, 10], conviértelo en una matriz (2, 5)."
      ],
      "metadata": {
        "id": "Z0UxB4reh4LU"
      }
    },
    {
      "cell_type": "code",
      "source": [
        "#Solución:)\n",
        "a = np.array([1,2,3,4,5,6,7,8,9,10])\n",
        "b = np.reshape(a,(2,5))\n",
        "print(b)"
      ],
      "metadata": {
        "id": "GkjKd3SLh6Sf",
        "colab": {
          "base_uri": "https://localhost:8080/"
        },
        "outputId": "1241b1ba-9245-4c26-9269-1363346749b1"
      },
      "execution_count": null,
      "outputs": [
        {
          "output_type": "stream",
          "name": "stdout",
          "text": [
            "[[ 1  2  3  4  5]\n",
            " [ 6  7  8  9 10]]\n"
          ]
        }
      ]
    },
    {
      "cell_type": "markdown",
      "source": [
        ":### **Ejercicio extra - Encontrar el *k*-ésimo elemento más pequeño en un array**\n",
        "Dado arr = np.array([9, 3, 6, 2, 1, 7]), encuentra el 3er elemento más pequeño sin ordenar el array completo.\n",
        "\n",
        "**Pista solución 1**: Se puede hacer con un método de Numpy\n",
        "\n",
        "**Pista solución 2**: El código se hace más complicado, pero se puede resolver con ciclos iterativos."
      ],
      "metadata": {
        "id": "MpTGrPV5iE1Z"
      }
    },
    {
      "cell_type": "code",
      "source": [
        "#Solucion :o\n",
        "arr = np.array([9, 3, 6, 2, 1, 7])\n",
        "k = int(input(\"ingrese el k-esimo elemento asi deseado \"))\n",
        "if k > len(arr) or k < 1:\n",
        "  pass\n",
        "  print(\"Fuera de rango\")\n",
        "else:\n",
        "  a = np.partition(arr, k-1)\n",
        "  print(a[k-1])"
      ],
      "metadata": {
        "id": "OYaMOW-jiLlX",
        "colab": {
          "base_uri": "https://localhost:8080/"
        },
        "outputId": "207aa49e-660e-4962-8bd6-a259c39dff3b"
      },
      "execution_count": null,
      "outputs": [
        {
          "output_type": "stream",
          "name": "stdout",
          "text": [
            "ingrese el k-esimo elemento asi deseado 7\n",
            "Fuera de rango\n"
          ]
        }
      ]
    },
    {
      "cell_type": "markdown",
      "source": [
        "## **Ejercicios aplicados**"
      ],
      "metadata": {
        "id": "Unyrp8HOCtMh"
      }
    },
    {
      "cell_type": "markdown",
      "source": [
        "### **Ejercicio: Cálculo de ROI (Retorno de Inversión)**\n",
        "Dadas las inversiones ([1000, 1500, 2000]) y sus retornos ([1200, 1650, 1800]), calcula el ROI porcentual para cada caso.\n",
        "\n",
        "*(Fórmula: ROI = (retorno - inversión) / inversión * 100)*"
      ],
      "metadata": {
        "id": "K1CPCb12GeCz"
      }
    },
    {
      "cell_type": "code",
      "source": [
        "inversion = np.array([1000,1500,5000])\n",
        "retorno = np.array([1200,1650,1800])\n",
        "roi = (retorno - inversion) / inversion * 100\n",
        "print(roi.astype(int))"
      ],
      "metadata": {
        "id": "6Eo-aN8bCwg1",
        "colab": {
          "base_uri": "https://localhost:8080/"
        },
        "outputId": "e39f1d18-94b3-4fb6-fc2f-fffe1e3cc252"
      },
      "execution_count": null,
      "outputs": [
        {
          "output_type": "stream",
          "name": "stdout",
          "text": [
            "[ 20  10 -64]\n"
          ]
        }
      ]
    },
    {
      "cell_type": "markdown",
      "source": [
        "### **Ejercicio: Normalización de Datos**\n",
        "Tienes un dataset de precios de productos (en USD): [250, 320, 150, 500, 210]. Normaliza los valores al rango [0, 1] para compararlos en una escala común.\n",
        "\n",
        "**Formulita de la normalización**: (x - min) / (max - min): Para una escala valores entre 0 y 1."
      ],
      "metadata": {
        "id": "3CfyZVv4GksC"
      }
    },
    {
      "cell_type": "code",
      "source": [
        "arr = np.array([250, 320, 150, 500, 210])\n",
        "normalizacion = (arr - np.min(arr))/(np.max(arr) - np.min(arr))\n",
        "print(normalizacion)"
      ],
      "metadata": {
        "id": "afTic4_JGxAy",
        "colab": {
          "base_uri": "https://localhost:8080/"
        },
        "outputId": "423e4b94-3d12-44c4-95cc-07e51246116b"
      },
      "execution_count": null,
      "outputs": [
        {
          "output_type": "stream",
          "name": "stdout",
          "text": [
            "[0.28571429 0.48571429 0.         1.         0.17142857]\n"
          ]
        }
      ]
    },
    {
      "cell_type": "markdown",
      "source": [
        "### **Ejercicio: Filtrado de Datos**\n",
        "En un array de ventas diarias ([1200, 0, 750, 2400, 0, 1800]), reemplaza los ceros (días sin ventas) por el promedio de los días con ventas."
      ],
      "metadata": {
        "id": "Px7Pdn7xHBAR"
      }
    },
    {
      "cell_type": "code",
      "source": [
        "ventas = np.array ([1200, 0, 750, 2400, 0, 1800])\n",
        "ventas_promedio = np.where(ventas == 0 , np.mean(ventas[ventas != 0]), ventas )\n",
        "print(ventas_promedio)"
      ],
      "metadata": {
        "id": "rqwubxX-HFBX",
        "colab": {
          "base_uri": "https://localhost:8080/"
        },
        "outputId": "57033eb8-c327-4a30-d4e7-d40312ff31eb"
      },
      "execution_count": null,
      "outputs": [
        {
          "output_type": "stream",
          "name": "stdout",
          "text": [
            "[1200.  1537.5  750.  2400.  1537.5 1800. ]\n"
          ]
        }
      ]
    },
    {
      "cell_type": "markdown",
      "source": [
        "### **Ejercicio - Análisis de Presión Arterial**\n",
        "Tenemos un dataset de mediciones de presión arterial sistólica (mmHg) de 10 pacientes:\n",
        "[120, 135, 140, 118, 150, 130, 160, 125, 142, 128].\n",
        "\n",
        "Calculen:\n",
        "- Media y desviación estándar.\n",
        "- Identifiquen valores fuera del rango normal (90–140 mmHg)."
      ],
      "metadata": {
        "id": "dKK2wBEEdqzt"
      }
    },
    {
      "cell_type": "code",
      "source": [
        "presion = np.array( [120, 135, 140, 118, 150, 130, 160, 125, 142, 128])\n",
        "print(f\"Media: {np.mean(presion)}\")\n",
        "print(f\"Desviacion estandar: {np.std(presion)}\")\n",
        "print(f\"Valores fuera del rango: {presion[(presion < 90 )| (presion > 140)]}\")"
      ],
      "metadata": {
        "id": "RkYj4KJud0uu",
        "colab": {
          "base_uri": "https://localhost:8080/"
        },
        "outputId": "3e9d95ae-4b5b-4dd0-a191-1ace731d51ae"
      },
      "execution_count": null,
      "outputs": [
        {
          "output_type": "stream",
          "name": "stdout",
          "text": [
            "Media: 134.8\n",
            "Desviacion estandar: 12.69488085804668\n",
            "Valores fuera del rango: [150 160 142]\n"
          ]
        }
      ]
    },
    {
      "cell_type": "markdown",
      "source": [
        "### **Ejercicio - Cálculo del PIB per Cápita**\n",
        "Dados el PIB (en millones de USD) [500, 320, 700, 450] y la población (en millones) [10, 8, 12, 9] de 4 países, calculen el PIB per cápita y determinen el país con el mayor valor."
      ],
      "metadata": {
        "id": "ltzE201veNyz"
      }
    },
    {
      "cell_type": "code",
      "source": [
        "PIB = np.array([500, 320, 700, 450])\n",
        "poblacion = np.array( [10, 8, 12, 9])\n",
        "pais = np.array([\"A\",\"B\", \"C\",\"D\"])\n",
        "pibpc = PIB / poblacion\n",
        "maxpib = np.argmax(pibpc)\n",
        "print(f\"El pais con PIB per capita mas alto es {pais[maxpib]}\")\n",
        "print(f\"PIB = {PIB[maxpib]} en millones de USD\")\n",
        "print(f\"poblacion = {poblacion[maxpib]} en millones\")\n",
        "print(f\"PIB per capita = {pibpc[maxpib]}\")\n"
      ],
      "metadata": {
        "id": "TMl-OWMpeOcP",
        "colab": {
          "base_uri": "https://localhost:8080/"
        },
        "outputId": "fa6ff8b6-ce0c-4b38-8a2e-109bf8f41617"
      },
      "execution_count": null,
      "outputs": [
        {
          "output_type": "stream",
          "name": "stdout",
          "text": [
            "El pais con PIB per capita mas alto es C\n",
            "PIB = 700 en millones de USD\n",
            "poblacion = 12 en millones\n",
            "PIB per capita = 58.333333333333336\n"
          ]
        }
      ]
    },
    {
      "cell_type": "markdown",
      "source": [
        "### **Ejercicio - Sistema de Drops (Probabilidades)**\n",
        "En un videojuego RPG, los enemigos al ser vencidos, pueden dropear (soltar):\n",
        "- 0 = Nada (50%).\n",
        "- 1 = Poción (30%).\n",
        "- 2 = Arma (15%).\n",
        "- 3 = Artefacto (5%).\n",
        "\n",
        "Simula 100 drops y cuenta cuántos artefactos se obtuvieron.\n",
        "\n",
        "*Ejemplo de salida*:\n",
        "\n",
        "```\n",
        "Artifactos obtenidos: 3\n",
        "```\n",
        "\n"
      ],
      "metadata": {
        "id": "7AP-dS9HgAO9"
      }
    },
    {
      "cell_type": "code",
      "source": [
        "recompensas = np.array([0,1,2,3])\n",
        "probabilidades = np.array([0.50, 0.30, 0.15, 0.05])\n",
        "drops = np.random.choice(recompensas, size = 100, p = probabilidades)\n",
        "print(f\"Artefactos obtenidos: {np.sum(drops == 3)}\")"
      ],
      "metadata": {
        "id": "828OGOwUgPBV",
        "colab": {
          "base_uri": "https://localhost:8080/"
        },
        "outputId": "30548fc5-0eb6-4edb-8dd7-cbc083282d81"
      },
      "execution_count": null,
      "outputs": [
        {
          "output_type": "stream",
          "name": "stdout",
          "text": [
            "Artefactos obtenidos: 5\n"
          ]
        }
      ]
    }
  ]
}